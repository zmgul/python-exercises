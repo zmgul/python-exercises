{
 "cells": [
  {
   "cell_type": "code",
   "execution_count": 1,
   "metadata": {},
   "outputs": [
    {
     "name": "stdout",
     "output_type": "stream",
     "text": [
      "May the force be with you!\n"
     ]
    }
   ],
   "source": [
    "print(\"May the force be with you!\")"
   ]
  },
  {
   "cell_type": "markdown",
   "metadata": {},
   "source": [
    "## Variables"
   ]
  },
  {
   "cell_type": "code",
   "execution_count": 2,
   "metadata": {},
   "outputs": [
    {
     "name": "stdout",
     "output_type": "stream",
     "text": [
      "<class 'str'>\n",
      "<class 'int'>\n",
      "<class 'float'>\n",
      "<class 'bool'>\n",
      "Data Types: leia <class 'str'> 20 <class 'int'> 85.5 <class 'float'> False <class 'bool'>\n"
     ]
    }
   ],
   "source": [
    "name = \"leia\"\n",
    "age = 20\n",
    "forceRating = 85.5\n",
    "onDarkSide = False\n",
    "\n",
    "print(type(name))\n",
    "print(type(age))\n",
    "print(type(forceRating))\n",
    "print(type(onDarkSide))\n",
    "print(f\"Data Types: {name} {type(name)} {age} {type(age)} {forceRating} {type(forceRating)} {onDarkSide} {type(onDarkSide)}\")"
   ]
  },
  {
   "cell_type": "markdown",
   "metadata": {},
   "source": [
    "## Data Types"
   ]
  },
  {
   "cell_type": "markdown",
   "metadata": {},
   "source": [
    "### Lists"
   ]
  },
  {
   "cell_type": "code",
   "execution_count": 3,
   "metadata": {},
   "outputs": [
    {
     "name": "stdout",
     "output_type": "stream",
     "text": [
      "<class 'list'>\n"
     ]
    }
   ],
   "source": [
    "myList = []\n",
    "print(type(myList))"
   ]
  },
  {
   "cell_type": "code",
   "execution_count": 4,
   "metadata": {},
   "outputs": [
    {
     "name": "stdout",
     "output_type": "stream",
     "text": [
      "['leia', 20, 85.5, False]\n",
      "leia\n",
      "['leia', 20, 85.5, False, 'luke']\n",
      "['obi-wan', 'leia', 20, 85.5, False, 'luke']\n",
      "['obi-wan', 'leia', 85.5, False, 'luke']\n",
      "['obi-wan', 'leia', 85.5, False]\n",
      "['obi-wan', 'leia', False]\n"
     ]
    }
   ],
   "source": [
    "myList = [\"leia\", 20, 85.5, False]\n",
    "print(myList)\n",
    "print(myList[0])\n",
    "\n",
    "#append an element to end of the list\n",
    "myList.append(\"luke\")\n",
    "print(myList)\n",
    "\n",
    "#insert an element to a specific index of the list\n",
    "myList.insert(0, \"obi-wan\")\n",
    "print(myList)\n",
    "\n",
    "#remove an element in the list\n",
    "myList.remove(20)\n",
    "print(myList)\n",
    "\n",
    "\"\"\"\n",
    "pop() method deletes the last element of the list as default. \n",
    "If specific index is used, deletes related element. \n",
    "\"\"\"\n",
    "myList.pop()\n",
    "print(myList)\n",
    "myList.pop(2)\n",
    "print(myList)\n"
   ]
  },
  {
   "cell_type": "code",
   "execution_count": 5,
   "metadata": {},
   "outputs": [
    {
     "name": "stdout",
     "output_type": "stream",
     "text": [
      "['luke', 'obi-wan', 20]\n",
      "['luke', 'obi-wan', 20, 'anakin']\n",
      "5\n",
      "['leia', 'obi-wan']\n",
      "['anakin', 20, 'obi-wan', 'luke', 'leia']\n",
      "<class 'str'>\n",
      "<class 'int'>\n"
     ]
    }
   ],
   "source": [
    "#list[star_index:finish_index:hop count]\n",
    "\n",
    "myList = [\"leia\", \"luke\", \"obi-wan\", 20, \"anakin\"]\n",
    "print(myList[1:4])\n",
    "print(myList[1:])\n",
    "\n",
    "print(len(myList))\n",
    "\n",
    "print(myList[0:4:2])\n",
    "\n",
    "#reverse of the list\n",
    "print(myList[::-1])\n",
    "\n",
    "print(type(myList[-1]))  \n",
    "print(type(myList[-2]))"
   ]
  },
  {
   "cell_type": "markdown",
   "metadata": {},
   "source": [
    "### Dictionaries"
   ]
  },
  {
   "cell_type": "code",
   "execution_count": 6,
   "metadata": {},
   "outputs": [
    {
     "name": "stdout",
     "output_type": "stream",
     "text": [
      "{'name': 'leia', 'age': 20, 'forceRating': 85.5, 'onDarkSide': False}\n",
      "<class 'dict'>\n",
      "leia\n",
      "20\n",
      "85.5\n",
      "False\n"
     ]
    }
   ],
   "source": [
    "# {key : value}\n",
    "\n",
    "myDict = {\n",
    "    \"name\" : \"leia\",\n",
    "    \"age\" : 20,\n",
    "    \"forceRating\" : 85.5,\n",
    "    \"onDarkSide\": False\n",
    "}\n",
    "\n",
    "print(myDict)\n",
    "print(type(myDict))\n",
    "\n",
    "print(myDict[\"name\"])\n",
    "print(myDict[\"age\"])\n",
    "print(myDict[\"forceRating\"])\n",
    "print(myDict[\"onDarkSide\"])\n"
   ]
  },
  {
   "cell_type": "code",
   "execution_count": 8,
   "metadata": {},
   "outputs": [
    {
     "name": "stdout",
     "output_type": "stream",
     "text": [
      "{'char1': {'name': 'leia', 'age': 20, 'forceRating': 85.5, 'onDarkSide': False}, 'char2': {'name': 'luke', 'age': 25, 'forceRating': 70.2, 'onDarkSide': False}, 'char3': {'name': 'obi-wan', 'age': 50, 'forceRating': 90.5, 'onDarkSide': False, 'hobbies': {'hobby1': 'lightsaber', 'hobby2': 'peacemaker', 'hobby3': 'guiding'}}}\n",
      "<class 'dict'>\n",
      "{'name': 'obi-wan', 'age': 50, 'forceRating': 90.5, 'onDarkSide': False, 'hobbies': {'hobby1': 'lightsaber', 'hobby2': 'peacemaker', 'hobby3': 'guiding'}}\n",
      "<class 'dict'>\n",
      "guiding\n"
     ]
    }
   ],
   "source": [
    "chars = {\n",
    "    \"char1\" : {\n",
    "        \"name\" : \"leia\",\n",
    "        \"age\" : 20,\n",
    "        \"forceRating\" : 85.5,\n",
    "        \"onDarkSide\" : False\n",
    "    },\n",
    "    \"char2\" : {\n",
    "        \"name\" : \"luke\",\n",
    "        \"age\" : 25,\n",
    "        \"forceRating\" : 70.2,\n",
    "        \"onDarkSide\" : False\n",
    "    },\n",
    "    \"char3\" : {\n",
    "        \"name\" : \"obi-wan\",\n",
    "        \"age\" : 50,\n",
    "        \"forceRating\" : 90.5,\n",
    "        \"onDarkSide\" : False,\n",
    "        \"hobbies\" : {\n",
    "            \"hobby1\" : \"lightsaber\",\n",
    "            \"hobby2\" : \"peacemaker\",\n",
    "            \"hobby3\" : \"guiding\"\n",
    "        }\n",
    "    }\n",
    "}\n",
    "\n",
    "print(chars)\n",
    "print(type(chars))\n",
    "\n",
    "print(chars[\"char3\"])\n",
    "print(type(chars[\"char3\"]))\n",
    "\n",
    "print(chars[\"char3\"][\"hobbies\"][\"hobby3\"])\n"
   ]
  },
  {
   "cell_type": "code",
   "execution_count": 9,
   "metadata": {},
   "outputs": [
    {
     "name": "stdout",
     "output_type": "stream",
     "text": [
      "[{'name': 'leia', 'surname': 'organa'}]\n"
     ]
    }
   ],
   "source": [
    "myList = []\n",
    "user = {\n",
    "    \"name\" : \"leia\",\n",
    "    \"surname\" : \"organa\"\n",
    "}\n",
    "myList.append(user)\n",
    "print(myList)"
   ]
  },
  {
   "cell_type": "code",
   "execution_count": 10,
   "metadata": {},
   "outputs": [
    {
     "name": "stdout",
     "output_type": "stream",
     "text": [
      "{'names': ['leia', 'luke', 'anakin']}\n",
      "<class 'dict'>\n",
      "<class 'list'>\n"
     ]
    }
   ],
   "source": [
    "myList = [\"leia\", \"luke\", \"anakin\"]\n",
    "datas = {\n",
    "    \"names\" : myList\n",
    "}\n",
    "\n",
    "print(datas)\n",
    "print(type(datas))\n",
    "print(type(datas[\"names\"]))"
   ]
  },
  {
   "cell_type": "markdown",
   "metadata": {},
   "source": [
    "## Conditions"
   ]
  },
  {
   "cell_type": "code",
   "execution_count": 11,
   "metadata": {},
   "outputs": [
    {
     "name": "stdout",
     "output_type": "stream",
     "text": [
      "Your age is older than 18\n"
     ]
    }
   ],
   "source": [
    "age = 18\n",
    "\n",
    "if(age >= 18):\n",
    "    print(\"Your age is older than 18\") \n",
    "elif(age == 18):\n",
    "    print(\"your age is equal to 18\")    \n",
    "else:\n",
    "    print(\"Your age is smaller than 18\")"
   ]
  },
  {
   "cell_type": "code",
   "execution_count": 12,
   "metadata": {},
   "outputs": [
    {
     "name": "stdout",
     "output_type": "stream",
     "text": [
      "your age is equal to 20\n"
     ]
    }
   ],
   "source": [
    "person = {\n",
    "    \"name\" : \"leia\",\n",
    "    \"age\" : 20,\n",
    "    \"forceRating\" : 85.5,\n",
    "    \"onDarkSide\" : False\n",
    "}\n",
    "\n",
    "if(person[\"age\"] > 20):\n",
    "    print(\"Age is older than 20\")\n",
    "elif(person[\"age\"] == 20):\n",
    "    print(\"your age is equal to 20\") \n",
    "else:\n",
    "    print(\"Your age is smaller than 20\")"
   ]
  },
  {
   "cell_type": "markdown",
   "metadata": {},
   "source": [
    "## Loops"
   ]
  },
  {
   "cell_type": "code",
   "execution_count": 13,
   "metadata": {},
   "outputs": [
    {
     "name": "stdout",
     "output_type": "stream",
     "text": [
      "anakin\n",
      "Qui-Gon Jinn\n",
      "obi-wan\n"
     ]
    }
   ],
   "source": [
    "myList = [\"anakin\", \"Qui-Gon Jinn\", \"obi-wan\"]\n",
    "\n",
    "for name in myList:\n",
    "    print(name)"
   ]
  },
  {
   "cell_type": "code",
   "execution_count": 14,
   "metadata": {},
   "outputs": [
    {
     "name": "stdout",
     "output_type": "stream",
     "text": [
      "[{'name': 'anakin', 'age': 20, 'forceRating': 85.5, 'onDarkSide': True}, {'name': 'Qui-Gon Jinn', 'age': 45, 'forceRating': 80.5, 'onDarkSide': False}, {'name': 'obi-wan', 'age': 30, 'forceRating': 85.5, 'onDarkSide': False}]\n",
      "anakin is smaller than 24\n",
      "Qui-Gon Jinn is older than 24\n",
      "obi-wan is older than 24\n"
     ]
    }
   ],
   "source": [
    "#For Loop\n",
    "\n",
    "dict1 = { \"name\": \"anakin\", \"age\": 20, \"forceRating\": 85.5, \"onDarkSide\": True}\n",
    "dict2 = { \"name\": \"Qui-Gon Jinn\", \"age\": 45, \"forceRating\": 80.5, \"onDarkSide\": False}\n",
    "dict3 = { \"name\": \"obi-wan\", \"age\": 30, \"forceRating\": 85.5, \"onDarkSide\": False}\n",
    "\n",
    "chars = []\n",
    "chars.append(dict1)\n",
    "chars.append(dict2)\n",
    "chars.append(dict3)\n",
    "\n",
    "print(chars)\n",
    "\n",
    "for char in chars:\n",
    "    if(char[\"age\"] > 24):\n",
    "        print(f\"{char['name']} is older than 24\")\n",
    "    elif(char[\"age\"] == 24):\n",
    "        print(f\"{char['name']} is equal to 24\") \n",
    "    else:\n",
    "        print(f\"{char['name']} is smaller than 24\")       "
   ]
  },
  {
   "cell_type": "code",
   "execution_count": 15,
   "metadata": {},
   "outputs": [
    {
     "name": "stdout",
     "output_type": "stream",
     "text": [
      "0\n",
      "1\n",
      "2\n",
      "3\n",
      "4\n"
     ]
    }
   ],
   "source": [
    "number = 0\n",
    "\n",
    "while(number < 10):\n",
    "    print(number)\n",
    "    number += 1\n",
    "    if(number == 5):\n",
    "        break"
   ]
  },
  {
   "cell_type": "markdown",
   "metadata": {},
   "source": [
    "## Functions"
   ]
  },
  {
   "cell_type": "code",
   "execution_count": 16,
   "metadata": {},
   "outputs": [
    {
     "name": "stdout",
     "output_type": "stream",
     "text": [
      "May the force be with you!\n"
     ]
    }
   ],
   "source": [
    "def hello():\n",
    "    print(\"May the force be with you!\")\n",
    "\n",
    "hello()    "
   ]
  },
  {
   "cell_type": "code",
   "execution_count": 17,
   "metadata": {},
   "outputs": [
    {
     "name": "stdout",
     "output_type": "stream",
     "text": [
      "hello leia organa 20\n"
     ]
    }
   ],
   "source": [
    "def print_name(name:str,surname:str, age:int):\n",
    "    print(f\"hello {name} {surname} {age}\")\n",
    "\n",
    "print_name(\"leia\",\"organa\", 20)    "
   ]
  },
  {
   "cell_type": "code",
   "execution_count": 18,
   "metadata": {},
   "outputs": [
    {
     "name": "stdout",
     "output_type": "stream",
     "text": [
      "15\n"
     ]
    }
   ],
   "source": [
    "def addition(num1:int, num2:int):\n",
    "    sum = num1+num2\n",
    "    return sum\n",
    "\n",
    "result = addition(5,10)    \n",
    "print(result)"
   ]
  },
  {
   "cell_type": "markdown",
   "metadata": {},
   "source": [
    "## Error Handling\n",
    "* try: Codes that may cause errors\n",
    "* except: Codes to run when an error occurs in \"try\"\n",
    "* finally: Codes that will run whether there is an error in the try or not\n"
   ]
  },
  {
   "cell_type": "code",
   "execution_count": 19,
   "metadata": {},
   "outputs": [
    {
     "name": "stdout",
     "output_type": "stream",
     "text": [
      "Something went wrong\n",
      "Finished\n"
     ]
    }
   ],
   "source": [
    "try:\n",
    "    num1 = 1/0\n",
    "except :\n",
    "    print(\"Something went wrong\")\n",
    "finally:\n",
    "    print(\"Finished\")    "
   ]
  },
  {
   "cell_type": "code",
   "execution_count": 20,
   "metadata": {},
   "outputs": [
    {
     "name": "stdout",
     "output_type": "stream",
     "text": [
      "division by zero\n",
      "Finished\n"
     ]
    }
   ],
   "source": [
    "try:\n",
    "    num1 = 1/0\n",
    "except Exception as error:\n",
    "    print(error)\n",
    "finally:\n",
    "    print(\"Finished\") "
   ]
  }
 ],
 "metadata": {
  "kernelspec": {
   "display_name": "Python 3",
   "language": "python",
   "name": "python3"
  },
  "language_info": {
   "codemirror_mode": {
    "name": "ipython",
    "version": 3
   },
   "file_extension": ".py",
   "mimetype": "text/x-python",
   "name": "python",
   "nbconvert_exporter": "python",
   "pygments_lexer": "ipython3",
   "version": "3.10.12"
  }
 },
 "nbformat": 4,
 "nbformat_minor": 2
}
